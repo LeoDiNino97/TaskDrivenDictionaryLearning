{
 "cells": [
  {
   "cell_type": "code",
   "execution_count": 1,
   "metadata": {},
   "outputs": [],
   "source": [
    "import numpy as np\n",
    "\n",
    "from tqdm import tqdm\n",
    "from matplotlib import pyplot as plt\n",
    "\n",
    "import torch, numpy as np\n",
    "import torch.nn.functional as F\n",
    "import torch.nn as nn\n",
    "import torch.utils.data as Data\n",
    "import matplotlib.pyplot as plt\n",
    "\n",
    "import warnings\n",
    "warnings.filterwarnings(\"ignore\")"
   ]
  },
  {
   "cell_type": "markdown",
   "metadata": {},
   "source": [
    "### Generate a dataset of signals and binary labels "
   ]
  },
  {
   "cell_type": "code",
   "execution_count": 2,
   "metadata": {},
   "outputs": [],
   "source": [
    "class SyntheticSignals():\n",
    "    def __init__(self, A, B, n, m, s, s_sigma = 0.5, eps_sigma = 0.01, size = 1000, batch_size = 400):\n",
    "        \n",
    "        self.n = n          # Number of samples in the original signal\n",
    "        self.m = m          # Number of samples through the linear transformation\n",
    "\n",
    "        self.size = size    # Size of the dataset\n",
    "\n",
    "        self.alpha = torch.zeros(self.size, self.n)          # Underlying sparse vector \n",
    "        self.x = torch.zeros(self.size, self.m)              # Observation\n",
    "        self.y = torch.zeros(self.size)                     # Binary label \n",
    "\n",
    "        self.A = A          # Matrix for the linear observation - Label 0\n",
    "        self.B = B          # Matrix for the linear observation - Label 1\n",
    "        self.s = s          # Sparsity of the signal\n",
    "\n",
    "        self.s_sigma = s_sigma\n",
    "        self.eps_sigma = eps_sigma\n",
    "\n",
    "        self.batch_size = batch_size\n",
    "\n",
    "        # Generating the dataset\n",
    "        self.set_data()\n",
    "\n",
    "\n",
    "    def set_tuple(self, i):\n",
    "\n",
    "        # Generating random sparsity in the canonic basis of the original signal\n",
    "        idxs = np.random.choice(self.m, self.s, replace=False)\n",
    "        peaks = np.random.normal(scale=self.s_sigma, size = self.s)\n",
    "        y_ = np.random.choice([0,1])\n",
    "        \n",
    "        # Generating the original signal and its corrupted observations according to a label\n",
    "        self.alpha[i, idxs] = torch.from_numpy(peaks).to(self.alpha)\n",
    "        self.x[i,:] = (self.A * (y_ == 1) + self.B * (y_ == 0)) @ self.alpha[i,:] + np.random.normal(scale=self.eps_sigma, size=self.m)\n",
    "        self.y[i] = y_\n",
    "\n",
    "    def set_data(self):\n",
    "        for i in range(self.size):\n",
    "            self.set_tuple(i)\n",
    "    \n",
    "    \n",
    "    def set_loader(self):\n",
    "\n",
    "        # We need tuples observation/label\n",
    "        return Data.DataLoader(dataset = Data.TensorDataset(self.x, self.y),\n",
    "                               batch_size = self.batch_size,\n",
    "                               shuffle = True)"
   ]
  },
  {
   "cell_type": "markdown",
   "metadata": {},
   "source": [
    "___________________"
   ]
  },
  {
   "cell_type": "markdown",
   "metadata": {},
   "source": [
    "### Model definition"
   ]
  },
  {
   "cell_type": "code",
   "execution_count": 26,
   "metadata": {},
   "outputs": [],
   "source": [
    "class TDDL(nn.Module):\n",
    "    def __init__(self, \n",
    "                 M, \n",
    "                 P, \n",
    "                 K, \n",
    "                 train_set,\n",
    "                 Lambda = 0.15, \n",
    "                 burn_in = 10,\n",
    "                 T = 100, \n",
    "                 t_0 = 1, \n",
    "                 LR = 5e-03):\n",
    "        \n",
    "        super().__init__()\n",
    "\n",
    "        # Dictionary initialization \n",
    "        self.M = M\n",
    "        self.P = P\n",
    "        self.D = self.projD(torch.randn((M, P)))\n",
    "\n",
    "        # Assumed sparsity\n",
    "        self.K = K\n",
    "\n",
    "        # Hyperparameters\n",
    "        self.Lambda = Lambda\n",
    "        self.t_0 = t_0\n",
    "        self.T = T\n",
    "        self.LR = LR\n",
    "        self.burn_in = burn_in\n",
    "\n",
    "        # Define the linear model W\n",
    "        self.fc1 = nn.Linear(P, 1)\n",
    "\n",
    "        # Define the optimization utilities \n",
    "        self.criterion = nn.BCELoss()  \n",
    "\n",
    "        # Loss tracker\n",
    "        self.losses = []\n",
    "        \n",
    "        # Initialization\n",
    "        self.initialization(train_set)\n",
    "\n",
    "    def initialization(self, train_set):\n",
    "\n",
    "        # The dictionary is initialized running a certain amount of \"warm up\" unsupervised optimization steps\n",
    "        X, _= next(iter(train_set))\n",
    "        for _ in tqdm(range(self.burn_in)):\n",
    "            \n",
    "            alpha = self.OMP(X)\n",
    "            self.D = self.projD(self.D - self.LR *( - torch.matmul(X.t(), alpha) - torch.matmul(self.D, torch.matmul(alpha.t(), alpha))))\n",
    "        \n",
    "    def forward(self, alpha):\n",
    "        return torch.sigmoid(self.fc1(alpha))\n",
    "\n",
    "    def OMP(self, X):\n",
    "        batch_size = X.shape[0]\n",
    "        S = [[] for _ in range(batch_size)]\n",
    "        alpha = torch.zeros((batch_size, self.D.shape[1]), device=X.device)\n",
    "        R = X.clone()\n",
    "        \n",
    "        for _ in range(self.K):\n",
    "            correlations = torch.matmul(R, self.D)\n",
    "            selected_atoms = torch.argmax(torch.abs(correlations), dim=1)\n",
    "            \n",
    "            for i in range(batch_size):\n",
    "                S[i].append(selected_atoms[i].item())\n",
    "                dic = self.D[:, S[i]]\n",
    "                x_S = torch.linalg.inv(dic.t() @ dic) @ dic.t() @ X[i]\n",
    "                alpha[i, S[i]] = x_S\n",
    "                R[i] = X[i] - torch.matmul(self.D, alpha[i])\n",
    "        \n",
    "        return torch.tensor(alpha, requires_grad=True)\n",
    "\n",
    "    def activeSet(self, alpha):\n",
    "        return torch.nonzero(alpha, as_tuple=True)\n",
    "\n",
    "    def projD(self, D):\n",
    "        \n",
    "        # We constrain the atoms to have norm at most equal to one\n",
    "        def projCol(d):\n",
    "            return d / torch.max(torch.tensor(1.0, device=d.device), torch.linalg.norm(d))\n",
    "        return torch.stack([projCol(D[:, i]) for i in range(D.shape[1])], dim=1)\n",
    "    \n",
    "    def update(self, X, Y):\n",
    "        # Compute the sparse approximation and its non-zero entries set\n",
    "        alpha = self.OMP(X)\n",
    "        L = self.activeSet(alpha)\n",
    "\n",
    "        # Forward this sparse feature vector enabling gradient computation with respect to the sparse vector\n",
    "        y_hat = self.forward(alpha)\n",
    "\n",
    "        # Loss computation and backpropagation\n",
    "        loss = self.criterion(y_hat[:,0], Y)\n",
    "        loss.backward()\n",
    "\n",
    "        # Define the auxiliary vector for the D-gradient computation \n",
    "        beta = torch.zeros_like(alpha)\n",
    "        for i in range(alpha.shape[0]):\n",
    "            active_indices = L[1][L[0] == i]\n",
    "            dic = self.D[:, active_indices]\n",
    "            beta[i, active_indices] = torch.matmul(torch.linalg.inv(torch.matmul(dic.t(), dic)), alpha.grad[i, active_indices])\n",
    "\n",
    "        ##########################\n",
    "        ### OPTIMIZATION PHASE ###\n",
    "        ##########################\n",
    "\n",
    "        # Gradient descent for the model parameters update\n",
    "        with torch.no_grad():\n",
    "            for param in self.parameters():\n",
    "                param -= self.LR * param.grad\n",
    "\n",
    "        # Projected gradient descent for the dictionary update\n",
    "        with torch.no_grad():\n",
    "            grad_D = - self.D @ torch.matmul(beta.t(), alpha) + torch.matmul((X - torch.matmul(alpha, self.D.t())).t(), beta)\n",
    "            self.D = self.projD(self.D - self.LR * grad_D)\n",
    "            \n",
    "        # Loss tracking\n",
    "        self.losses.append(loss.item())\n",
    "\n",
    "    def trainLoop(self, train_loader):\n",
    "        \n",
    "        # Set to train mode\n",
    "        self.train()\n",
    "\n",
    "        # Main loop\n",
    "        for t in tqdm(range(self.T)):\n",
    "            for X, Y in train_loader:\n",
    "                self.update(X, Y)    \n",
    "\n",
    "    def reset(self):\n",
    "        self.losses = []"
   ]
  },
  {
   "cell_type": "code",
   "execution_count": 27,
   "metadata": {},
   "outputs": [],
   "source": [
    "# Dimensions for the signal, its sparsity and its observation\n",
    "\n",
    "m_ = 150\n",
    "n_ = 200\n",
    "s_ = 20\n",
    "\n",
    "# Measurement matrices\n",
    "A_ = torch.randn(m_,n_)\n",
    "A_ /= torch.norm(A_, dim=0)\n",
    "\n",
    "B_ = torch.randn(m_,n_)\n",
    "B_ /= torch.norm(A_, dim=0)\n",
    "\n",
    "# Building a training set and a test set \n",
    "train_set = SyntheticSignals(A = A_,\n",
    "                             B = B_,\n",
    "                             n = n_,\n",
    "                             m = m_,\n",
    "                             s = s_,\n",
    "                             size = 800).set_loader()\n",
    "\n",
    "test_set = SyntheticSignals(A = A_,\n",
    "                            B = B_,\n",
    "                            n = n_,\n",
    "                            m = m_,\n",
    "                            s = s_,\n",
    "                            size = 200).set_loader()"
   ]
  },
  {
   "cell_type": "code",
   "execution_count": 33,
   "metadata": {},
   "outputs": [
    {
     "name": "stderr",
     "output_type": "stream",
     "text": [
      "100%|██████████| 10/10 [00:25<00:00,  2.53s/it]\n"
     ]
    }
   ],
   "source": [
    "model = TDDL(m_, n_, 20, train_set, T = 100, LR = 5e-4)"
   ]
  },
  {
   "cell_type": "code",
   "execution_count": 34,
   "metadata": {},
   "outputs": [
    {
     "data": {
      "text/plain": [
       "tensor([[-1.0256e-01, -6.3016e-02, -5.4351e-02,  ..., -3.2858e-02,\n",
       "         -1.2766e-01, -3.1379e-02],\n",
       "        [ 7.1223e-03, -3.5743e-02,  2.7997e-02,  ...,  1.5059e-02,\n",
       "          9.8534e-02,  7.0512e-02],\n",
       "        [-4.0532e-02,  1.9225e-02, -9.5980e-03,  ...,  3.9207e-02,\n",
       "          3.5806e-02,  9.0061e-02],\n",
       "        ...,\n",
       "        [-5.5499e-02, -5.4424e-02,  5.2679e-02,  ...,  7.5646e-02,\n",
       "         -5.6383e-02,  4.5234e-02],\n",
       "        [-1.3911e-01,  9.6541e-02,  2.1338e-02,  ..., -1.2327e-01,\n",
       "         -6.8020e-02,  1.8523e-01],\n",
       "        [-1.5417e-01, -6.0204e-02, -4.3416e-05,  ..., -4.1475e-02,\n",
       "         -3.3321e-02, -7.1479e-02]], grad_fn=<StackBackward0>)"
      ]
     },
     "execution_count": 34,
     "metadata": {},
     "output_type": "execute_result"
    }
   ],
   "source": [
    "model.D"
   ]
  },
  {
   "cell_type": "code",
   "execution_count": 35,
   "metadata": {},
   "outputs": [
    {
     "name": "stderr",
     "output_type": "stream",
     "text": [
      "100%|██████████| 100/100 [06:45<00:00,  4.05s/it]\n"
     ]
    }
   ],
   "source": [
    "model.trainLoop(train_set)"
   ]
  },
  {
   "cell_type": "code",
   "execution_count": 36,
   "metadata": {},
   "outputs": [
    {
     "data": {
      "text/plain": [
       "tensor([[-1.0260e-01, -6.3021e-02, -5.4331e-02,  ..., -3.2867e-02,\n",
       "         -1.2768e-01, -3.1373e-02],\n",
       "        [ 7.1958e-03, -3.5706e-02,  2.8027e-02,  ...,  1.5057e-02,\n",
       "          9.8510e-02,  7.0506e-02],\n",
       "        [-4.0557e-02,  1.9272e-02, -9.6267e-03,  ...,  3.9233e-02,\n",
       "          3.5784e-02,  9.0070e-02],\n",
       "        ...,\n",
       "        [-5.5468e-02, -5.4465e-02,  5.2667e-02,  ...,  7.5600e-02,\n",
       "         -5.6319e-02,  4.5287e-02],\n",
       "        [-1.3910e-01,  9.6460e-02,  2.1431e-02,  ..., -1.2324e-01,\n",
       "         -6.8000e-02,  1.8518e-01],\n",
       "        [-1.5414e-01, -6.0180e-02, -8.2583e-05,  ..., -4.1492e-02,\n",
       "         -3.3344e-02, -7.1473e-02]])"
      ]
     },
     "execution_count": 36,
     "metadata": {},
     "output_type": "execute_result"
    }
   ],
   "source": [
    "model.D"
   ]
  },
  {
   "cell_type": "code",
   "execution_count": 37,
   "metadata": {},
   "outputs": [
    {
     "data": {
      "text/plain": [
       "[<matplotlib.lines.Line2D at 0x264edf51c90>]"
      ]
     },
     "execution_count": 37,
     "metadata": {},
     "output_type": "execute_result"
    },
    {
     "data": {
      "image/png": "[encoded data removed]",
      "text/plain": [
       "<Figure size 640x480 with 1 Axes>"
      ]
     },
     "metadata": {},
     "output_type": "display_data"
    }
   ],
   "source": [
    "plt.plot(model.losses)"
   ]
  }
 ],
 "metadata": {
  "kernelspec": {
   "display_name": "Python 3",
   "language": "python",
   "name": "python3"
  },
  "language_info": {
   "codemirror_mode": {
    "name": "ipython",
    "version": 3
   },
   "file_extension": ".py",
   "mimetype": "text/x-python",
   "name": "python",
   "nbconvert_exporter": "python",
   "pygments_lexer": "ipython3",
   "version": "3.10.7"
  }
 },
 "nbformat": 4,
 "nbformat_minor": 2
}
