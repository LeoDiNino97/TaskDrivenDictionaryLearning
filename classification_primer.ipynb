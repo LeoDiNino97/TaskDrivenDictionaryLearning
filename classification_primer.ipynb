{
 "cells": [
  {
   "cell_type": "code",
   "execution_count": 1,
   "metadata": {},
   "outputs": [],
   "source": [
    "import numpy as np\n",
    "\n",
    "from tqdm import tqdm\n",
    "from matplotlib import pyplot as plt\n",
    "\n",
    "import torch, numpy as np\n",
    "import torch.nn.functional as F\n",
    "import torch.nn as nn\n",
    "import torch.utils.data as Data\n",
    "import matplotlib.pyplot as plt\n",
    "\n",
    "import warnings\n",
    "warnings.filterwarnings(\"ignore\")"
   ]
  },
  {
   "cell_type": "markdown",
   "metadata": {},
   "source": [
    "### Generate a dataset of signals and binary labels "
   ]
  },
  {
   "cell_type": "code",
   "execution_count": 3,
   "metadata": {},
   "outputs": [],
   "source": [
    "class SyntheticSignals():\n",
    "    def __init__(self, A, B, n, m, s, s_sigma = 0.5, eps_sigma = 0.01, size = 1000, batch_size = 400):\n",
    "        \n",
    "        self.n = n          # Number of samples in the original signal\n",
    "        self.m = m          # Number of samples through the linear transformation\n",
    "\n",
    "        self.size = size    # Size of the dataset\n",
    "\n",
    "        self.alpha = torch.zeros(self.size, self.n)          # Underlying sparse vector \n",
    "        self.x = torch.zeros(self.size, self.m)              # Observation\n",
    "        self.y = torch.zeros(self.size)                     # Binary label \n",
    "\n",
    "        self.A = A          # Matrix for the linear observation - Label 0\n",
    "        self.B = B          # Matrix for the linear observation - Label 1\n",
    "        self.s = s          # Sparsity of the signal\n",
    "\n",
    "        self.s_sigma = s_sigma\n",
    "        self.eps_sigma = eps_sigma\n",
    "\n",
    "        self.batch_size = batch_size\n",
    "\n",
    "        # Generating the dataset\n",
    "        self.set_data()\n",
    "\n",
    "\n",
    "    def set_tuple(self, i):\n",
    "\n",
    "        # Generating random sparsity in the canonic basis of the original signal\n",
    "        idxs = np.random.choice(self.m, self.s, replace=False)\n",
    "        peaks = np.random.normal(scale=self.s_sigma, size = self.s)\n",
    "        y_ = np.random.choice([0,1])\n",
    "        \n",
    "        # Generating the original signal and its corrupted observations according to a label\n",
    "        self.alpha[i, idxs] = torch.from_numpy(peaks).to(self.alpha)\n",
    "        self.x[i,:] = (self.A * (y_ == 1) + self.B * (y_ == 0)) @ self.alpha[i,:] + np.random.normal(scale=self.eps_sigma, size=self.m)\n",
    "        self.y[i] = y_\n",
    "\n",
    "    def set_data(self):\n",
    "        for i in range(self.size):\n",
    "            self.set_tuple(i)\n",
    "    \n",
    "    \n",
    "    def set_loader(self):\n",
    "\n",
    "        # We need tuples observation/label\n",
    "        return Data.DataLoader(dataset = Data.TensorDataset(self.x, self.y),\n",
    "                               batch_size = self.batch_size,\n",
    "                               shuffle = True)"
   ]
  },
  {
   "cell_type": "markdown",
   "metadata": {},
   "source": [
    "___________________"
   ]
  },
  {
   "cell_type": "markdown",
   "metadata": {},
   "source": [
    "### Model definition"
   ]
  },
  {
   "cell_type": "code",
   "execution_count": 54,
   "metadata": {},
   "outputs": [],
   "source": [
    "class TDDL(nn.Module):\n",
    "    def __init__(self, \n",
    "                 M, \n",
    "                 P, \n",
    "                 K, \n",
    "                 Lambda = 0.15, \n",
    "                 T = 100, \n",
    "                 t_0 = 1, \n",
    "                 LR = 5e-03):\n",
    "        \n",
    "        super().__init__()\n",
    "\n",
    "        # Dictionary initialization \n",
    "        self.D = self.projD(torch.randn((M, P)))\n",
    "\n",
    "        # Assumed sparsity\n",
    "        self.K = K\n",
    "\n",
    "        # Hyperparameters\n",
    "        self.Lambda = Lambda\n",
    "        self.t_0 = t_0\n",
    "        self.T = T\n",
    "        self.LR = LR\n",
    "\n",
    "        # Define the linear model W\n",
    "        self.fc1 = nn.Linear(P, 1)\n",
    "\n",
    "        # Define the optimization utilities \n",
    "        self.criterion = nn.BCELoss()  \n",
    "\n",
    "        # Loss tracker\n",
    "        self.losses = []\n",
    "\n",
    "    def initialization(self):\n",
    "        pass\n",
    "    \n",
    "    def forward(self, alpha):\n",
    "        return torch.sigmoid(self.fc1(alpha))\n",
    "\n",
    "    def OMP(self, X):\n",
    "        batch_size = X.shape[0]\n",
    "        S = [[] for _ in range(batch_size)]\n",
    "        alpha = torch.zeros((batch_size, self.D.shape[1]), device=X.device)\n",
    "        R = X.clone()\n",
    "        \n",
    "        for _ in range(self.K):\n",
    "            correlations = torch.matmul(R, self.D)\n",
    "            selected_atoms = torch.argmax(torch.abs(correlations), dim=1)\n",
    "            \n",
    "            for i in range(batch_size):\n",
    "                S[i].append(selected_atoms[i].item())\n",
    "                dic = self.D[:, S[i]]\n",
    "                x_S = torch.linalg.inv(dic.t() @ dic) @ dic.t() @ X[i]\n",
    "                alpha[i, S[i]] = x_S\n",
    "                R[i] = X[i] - torch.matmul(self.D, alpha[i])\n",
    "        \n",
    "        return torch.tensor(alpha, requires_grad=True)\n",
    "\n",
    "    def activeSet(self, alpha):\n",
    "        return torch.nonzero(alpha, as_tuple=True)\n",
    "\n",
    "    def projD(self, D):\n",
    "        \n",
    "        # We constrain the atoms to have norm at most equal to one\n",
    "        def projCol(d):\n",
    "            return d / torch.max(torch.tensor(1.0, device=d.device), torch.linalg.norm(d))\n",
    "        return torch.stack([projCol(D[:, i]) for i in range(D.shape[1])], dim=1)\n",
    "    \n",
    "    def update(self, X, Y):\n",
    "        # Compute the sparse approximation and its non-zero entries set\n",
    "        alpha = self.OMP(X)\n",
    "        L = self.activeSet(alpha)\n",
    "\n",
    "        # Forward this sparse feature vector enabling gradient computation with respect to the sparse vector\n",
    "        y_hat = self.forward(alpha)\n",
    "\n",
    "        # Loss computation and backpropagation\n",
    "        loss = self.criterion(y_hat[:,0], Y)\n",
    "        loss.backward()\n",
    "\n",
    "        # Define the auxiliary vector for the D-gradient computation \n",
    "        beta = torch.zeros_like(alpha)\n",
    "        for i in range(alpha.shape[0]):\n",
    "            active_indices = L[1][L[0] == i]\n",
    "            dic = self.D[:, active_indices]\n",
    "            beta[i, active_indices] = torch.matmul(torch.linalg.inv(torch.matmul(dic.t(), dic)), alpha.grad[i, active_indices])\n",
    "\n",
    "        ##########################\n",
    "        ### OPTIMIZATION PHASE ###\n",
    "        ##########################\n",
    "\n",
    "        # Gradient descent for the model parameters update\n",
    "        with torch.no_grad():\n",
    "            for param in self.parameters():\n",
    "                param -= self.LR * param.grad\n",
    "\n",
    "        # Projected gradient descent for the dictionary update\n",
    "        with torch.no_grad():\n",
    "            grad_D = - self.D @ torch.matmul(beta.t(), alpha) + torch.matmul((X - torch.matmul(alpha, self.D.t())).t(), beta)\n",
    "            self.D = self.projD(self.D - self.LR * grad_D)\n",
    "            \n",
    "        # Loss tracking\n",
    "        self.losses.append(loss.item())\n",
    "\n",
    "    def trainLoop(self, train_loader):\n",
    "        \n",
    "        # Set to train mode\n",
    "        self.train()\n",
    "\n",
    "        # Main loop\n",
    "        for t in tqdm(range(self.T)):\n",
    "            for X, Y in train_loader:\n",
    "                self.update(X, Y)    \n",
    "\n",
    "    def reset(self):\n",
    "        self.losses = []"
   ]
  },
  {
   "cell_type": "code",
   "execution_count": 55,
   "metadata": {},
   "outputs": [],
   "source": [
    "# Dimensions for the signal, its sparsity and its observation\n",
    "\n",
    "m_ = 150\n",
    "n_ = 200\n",
    "s_ = 20\n",
    "\n",
    "# Measurement matrices\n",
    "A_ = torch.randn(m_,n_)\n",
    "A_ /= torch.norm(A_, dim=0)\n",
    "\n",
    "B_ = torch.randn(m_,n_)\n",
    "B_ /= torch.norm(A_, dim=0)\n",
    "\n",
    "# Building a training set and a test set \n",
    "train_set = SyntheticSignals(A = A_,\n",
    "                             B = B_,\n",
    "                             n = n_,\n",
    "                             m = m_,\n",
    "                             s = s_,\n",
    "                             size = 800).set_loader()\n",
    "\n",
    "test_set = SyntheticSignals(A = A_,\n",
    "                            B = B_,\n",
    "                            n = n_,\n",
    "                            m = m_,\n",
    "                            s = s_,\n",
    "                            size = 200).set_loader()"
   ]
  },
  {
   "cell_type": "code",
   "execution_count": 56,
   "metadata": {},
   "outputs": [],
   "source": [
    "model = TDDL(m_, n_, 20, T = 100, LR = 5e-3)"
   ]
  },
  {
   "cell_type": "code",
   "execution_count": 57,
   "metadata": {},
   "outputs": [
    {
     "data": {
      "text/plain": [
       "tensor([[-0.0300,  0.0152,  0.1685,  ..., -0.1502, -0.1556, -0.0384],\n",
       "        [ 0.0608,  0.0238, -0.1000,  ..., -0.1714, -0.0369, -0.0947],\n",
       "        [ 0.0431,  0.1353,  0.0604,  ...,  0.0594, -0.0422,  0.0361],\n",
       "        ...,\n",
       "        [ 0.0173,  0.1404, -0.0784,  ..., -0.0126,  0.0095,  0.0041],\n",
       "        [-0.0765, -0.0076,  0.0469,  ...,  0.1045,  0.0214,  0.0396],\n",
       "        [ 0.0516,  0.0150, -0.0325,  ...,  0.1004, -0.0217, -0.0070]])"
      ]
     },
     "execution_count": 57,
     "metadata": {},
     "output_type": "execute_result"
    }
   ],
   "source": [
    "model.D"
   ]
  },
  {
   "cell_type": "code",
   "execution_count": null,
   "metadata": {},
   "outputs": [],
   "source": [
    "model.trainLoop(train_set)"
   ]
  },
  {
   "cell_type": "code",
   "execution_count": 44,
   "metadata": {},
   "outputs": [
    {
     "data": {
      "text/plain": [
       "tensor([[ 0.1272,  0.0472,  0.0423,  ..., -0.0694,  0.0358, -0.0858],\n",
       "        [-0.0632,  0.0544,  0.0349,  ...,  0.0122, -0.0085, -0.1927],\n",
       "        [-0.0163,  0.0936, -0.0763,  ...,  0.0462,  0.0753,  0.0323],\n",
       "        ...,\n",
       "        [ 0.0298,  0.0917,  0.1917,  ..., -0.0162, -0.0696,  0.0746],\n",
       "        [ 0.0760, -0.0491, -0.1018,  ..., -0.0142,  0.0282,  0.1367],\n",
       "        [-0.0567,  0.0391, -0.1147,  ...,  0.0047,  0.0255,  0.1404]])"
      ]
     },
     "execution_count": 44,
     "metadata": {},
     "output_type": "execute_result"
    }
   ],
   "source": [
    "model.D"
   ]
  },
  {
   "cell_type": "code",
   "execution_count": 45,
   "metadata": {},
   "outputs": [
    {
     "data": {
      "text/plain": [
       "[<matplotlib.lines.Line2D at 0x1bec1165b40>]"
      ]
     },
     "execution_count": 45,
     "metadata": {},
     "output_type": "execute_result"
    },
    {
     "data": {
      "image/png": "[encoded data removed]",
      "text/plain": [
       "<Figure size 640x480 with 1 Axes>"
      ]
     },
     "metadata": {},
     "output_type": "display_data"
    }
   ],
   "source": [
    "plt.plot(model.losses)"
   ]
  }
 ],
 "metadata": {
  "kernelspec": {
   "display_name": "Python 3",
   "language": "python",
   "name": "python3"
  },
  "language_info": {
   "codemirror_mode": {
    "name": "ipython",
    "version": 3
   },
   "file_extension": ".py",
   "mimetype": "text/x-python",
   "name": "python",
   "nbconvert_exporter": "python",
   "pygments_lexer": "ipython3",
   "version": "3.10.7"
  }
 },
 "nbformat": 4,
 "nbformat_minor": 2
}
