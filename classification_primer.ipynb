{
 "cells": [
  {
   "cell_type": "code",
   "execution_count": 1,
   "metadata": {},
   "outputs": [],
   "source": [
    "import numpy as np\n",
    "\n",
    "from tqdm import tqdm\n",
    "from matplotlib import pyplot as plt\n",
    "\n",
    "import torch, numpy as np\n",
    "import torch.nn.functional as F\n",
    "import torch.nn as nn\n",
    "import torch.utils.data as Data\n",
    "import matplotlib.pyplot as plt\n",
    "\n",
    "import warnings\n",
    "warnings.filterwarnings(\"ignore\")"
   ]
  },
  {
   "cell_type": "markdown",
   "metadata": {},
   "source": [
    "### Generate a dataset of signals and binary labels "
   ]
  },
  {
   "cell_type": "code",
   "execution_count": 2,
   "metadata": {},
   "outputs": [],
   "source": [
    "class SyntheticSignals():\n",
    "    def __init__(self, A, B, n, m, s, s_sigma = 0.5, eps_sigma = 0.01, size = 1000, batch_size = 400):\n",
    "        \n",
    "        self.n = n          # Number of samples in the original signal\n",
    "        self.m = m          # Number of samples through the linear transformation\n",
    "\n",
    "        self.size = size    # Size of the dataset\n",
    "\n",
    "        self.alpha = torch.zeros(self.size, self.n)          # Underlying sparse vector \n",
    "        self.x = torch.zeros(self.size, self.m)              # Observation\n",
    "        self.y = torch.zeros(self.size)                     # Binary label \n",
    "\n",
    "        self.A = A          # Matrix for the linear observation - Label 0\n",
    "        self.B = B          # Matrix for the linear observation - Label 1\n",
    "        self.s = s          # Sparsity of the signal\n",
    "\n",
    "        self.s_sigma = s_sigma\n",
    "        self.eps_sigma = eps_sigma\n",
    "\n",
    "        self.batch_size = batch_size\n",
    "\n",
    "        # Generating the dataset\n",
    "        self.set_data()\n",
    "\n",
    "\n",
    "    def set_tuple(self, i):\n",
    "\n",
    "        # Generating random sparsity in the canonic basis of the original signal\n",
    "        idxs = np.random.choice(self.m, self.s, replace=False)\n",
    "        peaks = np.random.normal(scale=self.s_sigma, size = self.s)\n",
    "        y_ = np.random.choice([0,1])\n",
    "        \n",
    "        # Generating the original signal and its corrupted observations according to a label\n",
    "        self.alpha[i, idxs] = torch.from_numpy(peaks).to(self.alpha)\n",
    "        self.x[i,:] = (self.A * (y_ == 1) + self.B * (y_ == 0)) @ self.alpha[i,:] + np.random.normal(scale=self.eps_sigma, size=self.m)\n",
    "        self.y[i] = y_\n",
    "\n",
    "    def set_data(self):\n",
    "        for i in range(self.size):\n",
    "            self.set_tuple(i)\n",
    "    \n",
    "    \n",
    "    def set_loader(self):\n",
    "\n",
    "        # We need tuples observation/label\n",
    "        return Data.DataLoader(dataset = Data.TensorDataset(self.x, self.y),\n",
    "                               batch_size = self.batch_size,\n",
    "                               shuffle = True)"
   ]
  },
  {
   "cell_type": "markdown",
   "metadata": {},
   "source": [
    "___________________"
   ]
  },
  {
   "cell_type": "markdown",
   "metadata": {},
   "source": [
    "### Model definition"
   ]
  },
  {
   "cell_type": "code",
   "execution_count": 3,
   "metadata": {},
   "outputs": [],
   "source": [
    "class TDDL(nn.Module):\n",
    "    def __init__(self, \n",
    "                 M, \n",
    "                 P, \n",
    "                 K, \n",
    "                 train_set,\n",
    "                 dicup = True,\n",
    "                 Lambda = 0.15, \n",
    "                 burn_in = 10,\n",
    "                 T = 100, \n",
    "                 t_0 = 1, \n",
    "                 LR = 5e-03):\n",
    "        \n",
    "        super().__init__()\n",
    "\n",
    "        # Dictionary initialization \n",
    "        self.M = M\n",
    "        self.P = P\n",
    "        self.D = self.projD(torch.randn((M, P)))\n",
    "\n",
    "        # Assumed sparsity\n",
    "        self.K = K\n",
    "\n",
    "        # Hyperparameters\n",
    "        self.Lambda = Lambda\n",
    "        self.t_0 = t_0\n",
    "        self.T = T\n",
    "        self.LR = LR\n",
    "        self.burn_in = burn_in\n",
    "\n",
    "        # Define the linear model W\n",
    "        self.fc1 = nn.Linear(P, 1)\n",
    "\n",
    "        # Define the optimization utilities \n",
    "        self.criterion = nn.BCELoss()  \n",
    "\n",
    "        # Loss tracker\n",
    "        self.losses = []\n",
    "        \n",
    "        # Initialization\n",
    "        self.initialization(train_set)\n",
    "\n",
    "        # Boolean for dictionary update\n",
    "        self.dicup = dicup\n",
    "\n",
    "    def initialization(self, train_set):\n",
    "\n",
    "        # The dictionary is initialized running a certain amount of \"warm up\" unsupervised optimization steps\n",
    "        X, _= next(iter(train_set))\n",
    "        for _ in tqdm(range(self.burn_in)):\n",
    "            \n",
    "            alpha = self.OMP(X)\n",
    "\n",
    "            with torch.no_grad():\n",
    "                self.D = self.projD(self.D - self.LR *( - torch.matmul(X.t(), alpha) - torch.matmul(self.D, torch.matmul(alpha.t(), alpha))))\n",
    "        \n",
    "    def forward(self, alpha):\n",
    "        return torch.sigmoid(self.fc1(alpha))\n",
    "        \n",
    "    def OMP(self, X):\n",
    "        batch_size = X.shape[0]\n",
    "        S = [[] for _ in range(batch_size)]\n",
    "        alpha = torch.zeros((batch_size, self.D.shape[1]), device=X.device)\n",
    "        R = X.clone()\n",
    "        \n",
    "        for _ in range(self.K):\n",
    "            correlations = torch.matmul(R, self.D)\n",
    "            selected_atoms = torch.argmax(torch.abs(correlations), dim=1)\n",
    "            \n",
    "            for i in range(batch_size):\n",
    "                S[i].append(selected_atoms[i].item())\n",
    "                dic = self.D[:, S[i]]\n",
    "                x_S = torch.linalg.inv(dic.t() @ dic) @ dic.t() @ X[i]\n",
    "                alpha[i, S[i]] = x_S\n",
    "                R[i] = X[i] - torch.matmul(self.D, alpha[i])\n",
    "        \n",
    "        return torch.tensor(alpha, requires_grad=True)\n",
    "\n",
    "    def activeSet(self, alpha):\n",
    "        return torch.nonzero(alpha, as_tuple=True)\n",
    "\n",
    "    def projD(self, D):\n",
    "        \n",
    "        # We constrain the atoms to have norm at most equal to one\n",
    "        def projCol(d):\n",
    "            return d / torch.max(torch.tensor(1.0, device=d.device), torch.linalg.norm(d))\n",
    "        return torch.stack([projCol(D[:, i]) for i in range(D.shape[1])], dim=1)\n",
    "    \n",
    "    def update(self, X, Y):\n",
    "        # Compute the sparse approximation and its non-zero entries set\n",
    "        alpha = self.OMP(X)\n",
    "        L = self.activeSet(alpha)\n",
    "        # Forward this sparse feature vector enabling gradient computation with respect to the sparse vector\n",
    "        y_hat = self.forward(alpha)\n",
    "\n",
    "        # Loss computation and backpropagation\n",
    "        loss = self.criterion(y_hat[:,0], Y)\n",
    "        loss.backward()\n",
    "\n",
    "        ##########################\n",
    "        ### OPTIMIZATION PHASE ###\n",
    "        ##########################\n",
    "\n",
    "        # Gradient descent for the model parameters update\n",
    "        with torch.no_grad():\n",
    "            for param in self.parameters():\n",
    "                param -= self.LR * param.grad\n",
    "\n",
    "        # Define the auxiliary vector for the D-gradient computation \n",
    "        if self.dicup:\n",
    "\n",
    "            beta = torch.zeros_like(alpha)\n",
    "            for i in range(alpha.shape[0]):\n",
    "                active_indices = L[1][L[0] == i]\n",
    "                dic = self.D[:, active_indices]\n",
    "                beta[i, active_indices] = torch.matmul(torch.linalg.inv(torch.matmul(dic.t(), dic)), alpha.grad[i, active_indices])\n",
    "\n",
    "        # Projected gradient descent for the dictionary update\n",
    "            with torch.no_grad():\n",
    "                grad_D = - self.D @ torch.matmul(beta.t(), alpha) + torch.matmul((X - torch.matmul(alpha, self.D.t())).t(), beta)\n",
    "                self.D = self.projD(self.D - grad_D)\n",
    "            \n",
    "        # Loss tracking\n",
    "        self.losses.append(loss.item())\n",
    "\n",
    "    def trainLoop(self, train_loader):\n",
    "        \n",
    "        # Set to train mode\n",
    "        self.train()\n",
    "\n",
    "        # Main loop\n",
    "        for _ in tqdm(range(self.T)):\n",
    "            for X, Y in train_loader:\n",
    "                self.update(X, Y)    \n",
    "\n",
    "    def reset(self):\n",
    "        self.losses = []"
   ]
  },
  {
   "cell_type": "code",
   "execution_count": 4,
   "metadata": {},
   "outputs": [],
   "source": [
    "# Dimensions for the signal, its sparsity and its observation\n",
    "\n",
    "m_ = 150\n",
    "n_ = 200\n",
    "s_ = 20\n",
    "\n",
    "# Measurement matrices\n",
    "A_ = torch.randn(m_,n_)\n",
    "A_ /= torch.norm(A_, dim=0)\n",
    "\n",
    "B_ = torch.randn(m_,n_)\n",
    "B_ /= torch.norm(A_, dim=0)\n",
    "\n",
    "# Building a training set and a test set \n",
    "train_set = SyntheticSignals(A = A_,\n",
    "                             B = B_,\n",
    "                             n = n_,\n",
    "                             m = m_,\n",
    "                             s = s_,\n",
    "                             size = 800).set_loader()\n",
    "\n",
    "test_set = SyntheticSignals(A = A_,\n",
    "                            B = B_,\n",
    "                            n = n_,\n",
    "                            m = m_,\n",
    "                            s = s_,\n",
    "                            size = 200).set_loader()"
   ]
  },
  {
   "cell_type": "code",
   "execution_count": 5,
   "metadata": {},
   "outputs": [
    {
     "name": "stderr",
     "output_type": "stream",
     "text": [
      "100%|██████████| 10/10 [00:18<00:00,  1.86s/it]\n",
      "100%|██████████| 100/100 [06:26<00:00,  3.86s/it]\n"
     ]
    }
   ],
   "source": [
    "model1 = TDDL(m_, n_, 20, train_set, T = 100, LR = 5e-4)\n",
    "model1.trainLoop(train_set)"
   ]
  },
  {
   "cell_type": "code",
   "execution_count": 6,
   "metadata": {},
   "outputs": [
    {
     "name": "stderr",
     "output_type": "stream",
     "text": [
      "100%|██████████| 10/10 [00:18<00:00,  1.89s/it]\n",
      "100%|██████████| 100/100 [06:05<00:00,  3.65s/it]\n"
     ]
    }
   ],
   "source": [
    "model2 = TDDL(m_, n_, 20, train_set, dicup = False, T = 100, LR = 5e-4)\n",
    "model2.trainLoop(train_set)"
   ]
  },
  {
   "cell_type": "code",
   "execution_count": 7,
   "metadata": {},
   "outputs": [
    {
     "data": {
      "image/png": "[encoded data removed]",
      "text/plain": [
       "<Figure size 640x480 with 1 Axes>"
      ]
     },
     "metadata": {},
     "output_type": "display_data"
    }
   ],
   "source": [
    "plt.plot(model1.losses, label = 'Learneable Dictionary')\n",
    "plt.plot(model2.losses, label = 'Fixed Dictionary')\n",
    "plt.legend()\n",
    "plt.yscale('log')"
   ]
  }
 ],
 "metadata": {
  "kernelspec": {
   "display_name": "Python 3",
   "language": "python",
   "name": "python3"
  },
  "language_info": {
   "codemirror_mode": {
    "name": "ipython",
    "version": 3
   },
   "file_extension": ".py",
   "mimetype": "text/x-python",
   "name": "python",
   "nbconvert_exporter": "python",
   "pygments_lexer": "ipython3",
   "version": "3.10.7"
  }
 },
 "nbformat": 4,
 "nbformat_minor": 2
}
