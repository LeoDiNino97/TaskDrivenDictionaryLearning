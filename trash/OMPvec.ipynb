{
 "cells": [
  {
   "cell_type": "code",
   "execution_count": 1,
   "metadata": {},
   "outputs": [],
   "source": [
    "import numpy as np "
   ]
  },
  {
   "cell_type": "code",
   "execution_count": 2,
   "metadata": {},
   "outputs": [],
   "source": [
    "def OMP(y, D, K):\n",
    "\n",
    "    S = []\n",
    "    x = np.zeros(D.shape[1])\n",
    "\n",
    "    R = np.copy(y)\n",
    "\n",
    "    for _ in range(K):\n",
    "        corr = D.T @ R\n",
    "\n",
    "        S.append(np.argmax(np.abs(corr)))\n",
    "        dic = D[:,S]\n",
    "        x_hat = np.linalg.inv(dic.T @ dic) @ dic.T @ y\n",
    "        x[S] = x_hat\n",
    "\n",
    "        R = y - D @ x\n",
    "\n",
    "    return x"
   ]
  },
  {
   "cell_type": "code",
   "execution_count": 3,
   "metadata": {},
   "outputs": [],
   "source": [
    "def vecOMP(Y, D, K):\n",
    "    batch_size, _ = Y.shape\n",
    "    dictionary_dim = D.shape[1]\n",
    "    \n",
    "    S = np.zeros((K, batch_size), dtype=int)\n",
    "    X = np.zeros((batch_size, dictionary_dim))\n",
    "    R = np.copy(Y)\n",
    "    \n",
    "    for k in range(K):\n",
    "\n",
    "        corr = np.abs(R @ D)\n",
    "\n",
    "        # Masking the previously selected atoms\n",
    "        mask_1 = np.zeros_like(corr, dtype=bool)\n",
    "        mask_1[np.arange(batch_size)[:, None], S[:k,:].transpose(1,0)] = True\n",
    "        corr[mask_1] = -np.inf\n",
    "\n",
    "        # Selected highest correlated atoms\n",
    "        selected = np.argmax(corr, axis=1)\n",
    "        S[k, :] = selected\n",
    "\n",
    "        # Solve least square problem\n",
    "        dics = np.linalg.pinv(D[:, S[:k+1,:]].transpose(2,0,1))\n",
    "        X_hat = np.matmul(dics, Y  [:,:,None])[:,:,0]\n",
    "\n",
    "        # Update the estimate\n",
    "        mask_2 = np.zeros_like(X, dtype=bool)\n",
    "        mask_2[np.arange(batch_size)[:, None], S[:k+1,:].transpose(1,0)] = True\n",
    "        X[mask_2] = X_hat.reshape(-1)\n",
    "\n",
    "        # Update the residuals\n",
    "        R = Y - (X @ D.T)\n",
    "    \n",
    "    return X, S\n"
   ]
  },
  {
   "cell_type": "code",
   "execution_count": 4,
   "metadata": {},
   "outputs": [],
   "source": [
    "Y = np.random.rand(100, 20)  \n",
    "D = np.eye(20)\n",
    "K = 5  \n",
    "\n",
    "X, S = vecOMP(Y, D, K)"
   ]
  },
  {
   "cell_type": "code",
   "execution_count": 7,
   "metadata": {},
   "outputs": [
    {
     "data": {
      "text/plain": [
       "(100, 20)"
      ]
     },
     "execution_count": 7,
     "metadata": {},
     "output_type": "execute_result"
    }
   ],
   "source": [
    "X.shape"
   ]
  },
  {
   "cell_type": "code",
   "execution_count": 5,
   "metadata": {},
   "outputs": [
    {
     "data": {
      "text/plain": [
       "(100, 20)"
      ]
     },
     "execution_count": 5,
     "metadata": {},
     "output_type": "execute_result"
    }
   ],
   "source": [
    "X.shape"
   ]
  }
 ],
 "metadata": {
  "kernelspec": {
   "display_name": "Python 3",
   "language": "python",
   "name": "python3"
  },
  "language_info": {
   "codemirror_mode": {
    "name": "ipython",
    "version": 3
   },
   "file_extension": ".py",
   "mimetype": "text/x-python",
   "name": "python",
   "nbconvert_exporter": "python",
   "pygments_lexer": "ipython3",
   "version": "3.10.7"
  }
 },
 "nbformat": 4,
 "nbformat_minor": 2
}
